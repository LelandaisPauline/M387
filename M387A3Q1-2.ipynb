{
 "cells": [
  {
   "cell_type": "code",
   "execution_count": 6,
   "metadata": {
    "collapsed": true
   },
   "outputs": [],
   "source": [
    "import numpy as np\n",
    "import matplotlib.pyplot as plt\n",
    "import random as rn\n",
    "import math as math\n",
    "from scipy.misc import comb"
   ]
  },
  {
   "cell_type": "markdown",
   "metadata": {},
   "source": [
    "Question 1 : For Chebyshev interpolation, the function * takes its maxima at x=+1, x=-1, so in order to compute the Lebesgue constant ||L||, we only need to evaluate the Lagrange coefficients phi;nk. Plotting the graph (of a function) of ||Ln|| against n, experimentally determine the constant C in the assumed dependence ||Ln||=Clog(n)."
   ]
  },
  {
   "cell_type": "code",
   "execution_count": 7,
   "metadata": {
    "collapsed": true
   },
   "outputs": [],
   "source": [
    "def Chebyshev(nn):\n",
    "    #finds coordinates of Chebishev nodes for nn - number of nodes\n",
    "    nodelist =[float(0.) for x in range (nn)] #initializing\n",
    "    for i in range(nn):#print i#debug\n",
    "        nodelist[i]=math.cos(math.pi*(2*(i+1)-1)/(2*nn))#print nodelist[i]#debug\n",
    "    return nodelist"
   ]
  },
  {
   "cell_type": "code",
   "execution_count": 8,
   "metadata": {
    "collapsed": true
   },
   "outputs": [],
   "source": [
    "def Lagrange(nn, nodelist, x):\n",
    "    #performs Lagrange interpolation on at a point x and for nn nodes\n",
    "    somme=0 #initializing\n",
    "    for i in range(nn): \n",
    "        prod=1 #initializing\n",
    "        for j in range (nn): #compute Lagrange interpolation\n",
    "            if j!=i :\n",
    "                prod=prod*(x-nodelist[j])/(nodelist[i]-nodelist[j])\n",
    "            else :\n",
    "                prod=prod*1\n",
    "        somme=somme+abs(prod)\n",
    "    y=somme #assign f(x) to y\n",
    "    return y"
   ]
  },
  {
   "cell_type": "code",
   "execution_count": 9,
   "metadata": {
    "collapsed": false
   },
   "outputs": [
    {
     "data": {
      "image/png": "[encoded data removed]",
      "text/plain": [
       "<matplotlib.figure.Figure at 0x119700e90>"
      ]
     },
     "metadata": {},
     "output_type": "display_data"
    }
   ],
   "source": [
    "fig = plt.figure(figsize=(10,10)) #graph setup\n",
    "ax1 = fig.add_subplot(211)\n",
    "\n",
    "nn=170 # number of nodes\n",
    "nlist = [x for x in range(nn)] #stores degrees \n",
    "Llist =[float(0.) for x in range (nn)] # stores LEbesgues constant for each degree of interpolation\n",
    "\n",
    "for i in range (nn):#computing Ln for nn\n",
    "    nodelist=Chebyshev(i) #gets i Chebyshev nodes between [-1;1]\n",
    "    Llist[i]=max(Lagrange(i,nodelist,-1.),Lagrange(i,nodelist,1.))\n",
    "    #print i #printing out exact values to compute C\n",
    "    #print Llist[i]\n",
    "ax1.plot(nlist,Llist,label='Lebesgue Constant with Chebyshev nodes')\n",
    "\n",
    "plt.legend()                                                             #more graph setup - no math relevance\n",
    "ax1.set_title(r'Lagrange Interpolation with equally spaced nodes')\n",
    "ax1.xaxis.set_label_coords(.5,.06)\n",
    "ax1.set_xlabel('x')\n",
    "ax1.set_ylabel('y')\n",
    "ax1.legend(loc=\"lower center\")\n",
    "plt.show()"
   ]
  },
  {
   "cell_type": "markdown",
   "metadata": {},
   "source": [
    "From that data we can guess C ~ 2/pi * log(n)"
   ]
  },
  {
   "cell_type": "code",
   "execution_count": null,
   "metadata": {
    "collapsed": true
   },
   "outputs": [],
   "source": []
  }
 ],
 "metadata": {
  "kernelspec": {
   "display_name": "Python 2",
   "language": "python",
   "name": "python2"
  },
  "language_info": {
   "codemirror_mode": {
    "name": "ipython",
    "version": 2
   },
   "file_extension": ".py",
   "mimetype": "text/x-python",
   "name": "python",
   "nbconvert_exporter": "python",
   "pygments_lexer": "ipython2",
   "version": "2.7.13"
  }
 },
 "nbformat": 4,
 "nbformat_minor": 2
}
