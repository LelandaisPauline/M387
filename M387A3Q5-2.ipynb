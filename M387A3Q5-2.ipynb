{
 "cells": [
  {
   "cell_type": "code",
   "execution_count": 12,
   "metadata": {
    "collapsed": true
   },
   "outputs": [],
   "source": [
    "import numpy as np\n",
    "import matplotlib.pyplot as plt\n",
    "import random as rn\n",
    "from scipy.misc import comb\n",
    "import math "
   ]
  },
  {
   "cell_type": "markdown",
   "metadata": {},
   "source": [
    "Question 5 : We want to show some evidence that for the Newton-Cotes Formulas, ||Qn|| grows with n. This would indicate that Qnf doesn't got to I(f) as n goes to infinity. Design and implement a procedure to compute the weights and therefore the ''Lebesgue constant'' for the Newton-Cotes formula with n+1 nodes, for the interval [0,1]. This can be done by a quadrature rule for the integrals. Plotting the graph of ||Qn|| against n, make a guess on the functional dpendence of ||Qn|| and n."
   ]
  },
  {
   "cell_type": "code",
   "execution_count": 13,
   "metadata": {
    "collapsed": true
   },
   "outputs": [],
   "source": [
    "def Lagrange(x, nn, nodelist):\n",
    "    #computes Lagrange polynomial at a point x and for nn nodes\n",
    "    somme=0 #initializing\n",
    "    for i in range(nn): \n",
    "        prod=1 #initializing\n",
    "        for j in range (nn): #compute Lagrange interpolation\n",
    "            if j!=i :\n",
    "                prod=prod*(x-nodelist[j])/(nodelist[i]-nodelist[j])\n",
    "            else :\n",
    "                prod=prod*1\n",
    "        somme=somme+prod\n",
    "    y=somme #assign f(x) to y\n",
    "    return y"
   ]
  },
  {
   "cell_type": "code",
   "execution_count": 14,
   "metadata": {
    "collapsed": true
   },
   "outputs": [],
   "source": [
    "def quadrature (n):\n",
    "    nodelist=np.linspace(0,1,n) #initializing node's x coordinates\n",
    "    simpsons=1/6.0*(Lagrange(0.0,n,nodelist)+4*Lagrange(.5,n,nodelist)+Lagrange(1.,n,nodelist)) #computing simpson's rule\n",
    "    return simpsons         "
   ]
  },
  {
   "cell_type": "code",
   "execution_count": 15,
   "metadata": {
    "collapsed": true
   },
   "outputs": [],
   "source": [
    "def summing(n):\n",
    "    somme=0 #initializing\n",
    "    for i in range(n):\n",
    "        somme=somme+abs(quadrature(i))#print n #printing out exact values to compute C#print somme\n",
    "    return somme"
   ]
  },
  {
   "cell_type": "code",
   "execution_count": 16,
   "metadata": {
    "collapsed": false
   },
   "outputs": [
    {
     "data": {
      "image/png": "[encoded data removed]",
      "text/plain": [
       "<matplotlib.figure.Figure at 0x11c549a90>"
      ]
     },
     "metadata": {},
     "output_type": "display_data"
    }
   ],
   "source": [
    "fig = plt.figure(figsize=(10,10)) #graph setup\n",
    "ax1 = fig.add_subplot(211)\n",
    "\n",
    "nn=17 # number of nodes\n",
    "nlist = [x for x in range(nn)]\n",
    "Qlist = [0 for x in range (nn)] #initializing\n",
    "\n",
    "for i in range (nn):#computing f(x) for each x values\n",
    "    Qlist[i]=summing(i)\n",
    "ax1.plot(nlist,Qlist,label='||Qn|| for Newton Cotes formula')\n",
    "\n",
    "plt.legend()                                                             #more graph setup - no math relevance\n",
    "ax1.set_title(r'Lagrange Interpolation with equally spaced nodes')\n",
    "ax1.xaxis.set_label_coords(.5,.06)\n",
    "ax1.set_xlabel('x')\n",
    "ax1.set_ylabel('y')\n",
    "ax1.legend(loc=\"lower center\")\n",
    "plt.show()"
   ]
  },
  {
   "cell_type": "markdown",
   "metadata": {
    "collapsed": true
   },
   "source": [
    "By looking at the values printed out we can guess that ||Qn||=n-1"
   ]
  }
 ],
 "metadata": {
  "kernelspec": {
   "display_name": "Python 2",
   "language": "python",
   "name": "python2"
  },
  "language_info": {
   "codemirror_mode": {
    "name": "ipython",
    "version": 2
   },
   "file_extension": ".py",
   "mimetype": "text/x-python",
   "name": "python",
   "nbconvert_exporter": "python",
   "pygments_lexer": "ipython2",
   "version": "2.7.13"
  }
 },
 "nbformat": 4,
 "nbformat_minor": 2
}
