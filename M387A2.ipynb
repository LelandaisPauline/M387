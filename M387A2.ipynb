{
 "cells": [
  {
   "cell_type": "code",
   "execution_count": 1,
   "metadata": {
    "collapsed": true
   },
   "outputs": [],
   "source": [
    "import numpy as np\n",
    "import matplotlib.pyplot as plt\n",
    "import random as rn\n",
    "from copy import copy"
   ]
  },
  {
   "cell_type": "markdown",
   "metadata": {},
   "source": [
    "Question 2 : Write a function that takes n as its parameter and generates an nxn matrix, whose entries are random numbers uniformly distributed in [-1,1]."
   ]
  },
  {
   "cell_type": "code",
   "execution_count": 2,
   "metadata": {
    "collapsed": true
   },
   "outputs": [],
   "source": [
    "def generate (unif,n):\n",
    "    mat=[[0 for x in range (n)] for y in range (n)] #initalizes all entries to 0\n",
    "    for i in range(n):        \n",
    "        for j in range(n):\n",
    "            if unif:\n",
    "                mat[i][j]= np.random.uniform(-1,1) # distributes uniformly between [-1,1)\n",
    "            #else\n",
    "                #mat[i][j]= \n",
    "    return mat"
   ]
  },
  {
   "cell_type": "code",
   "execution_count": 3,
   "metadata": {
    "collapsed": false
   },
   "outputs": [],
   "source": [
    "def generateunif(n):\n",
    "    # nxn matrix generation function\n",
    "    # uniformly distibuted entries\n",
    "    mat=[[0 for x in range (n)] for y in range (n)] #initalizes all entries to 0\n",
    "    for i in range(n):        \n",
    "        for j in range(n):\n",
    "            mat[i][j]= np.random.uniform(-1,1) # distributes uniformly between [-1,1)\n",
    "    return mat"
   ]
  },
  {
   "cell_type": "code",
   "execution_count": 4,
   "metadata": {
    "collapsed": true
   },
   "outputs": [],
   "source": [
    "def generatenorm(n):\n",
    "    #nxn matrix\n",
    "    # normally distributed entries\n",
    "    mat=[[0 for x in range (n)] for y in range (n)] #initalizes all entries to 0\n",
    "    mu=1 #set parameters for normal distribution\n",
    "    sigma=0.1\n",
    "    for i in range(n):\n",
    "        for j in range (n):        \n",
    "            mat[i][j]=np.random.normal(mu, sigma) # distributes normally\n",
    "    return mat"
   ]
  },
  {
   "cell_type": "markdown",
   "metadata": {},
   "source": [
    "Question 3 : Implement Gaussian elimination with partial pivoting, and test it on a number of cases to be sure of its correctness."
   ]
  },
  {
   "cell_type": "code",
   "execution_count": 5,
   "metadata": {
    "collapsed": false
   },
   "outputs": [],
   "source": [
    "def gaussian(mat,n):\n",
    "# gaussian elimination on nxn matrix\n",
    "    for pvtr in range(n): # stands for pivot row\n",
    "        pivot = mat[pvtr][pvtr]\n",
    "        for tgr in range (pvtr+1,n): #stands for target row\n",
    "            if mat[tgr][pvtr] != 0:\n",
    "                ratio=mat[tgr][pvtr]/pivot #finds by how much we need to scale the pivot to make entry =0 \n",
    "                                            #kpivot=entry so k =entry/pivot\n",
    "                #print ratio #debug\n",
    "                rowred(mat,tgr,pvtr,ratio,n) # then reduces the whole row by the ratio\n",
    "    return mat # returns upper triangular matrix #debug"
   ]
  },
  {
   "cell_type": "code",
   "execution_count": 6,
   "metadata": {
    "collapsed": false
   },
   "outputs": [],
   "source": [
    "def rowred(mat, tgr, pvtr, ratio, n):\n",
    "    # perfoms row reduction on one row given a matrix, a row number, a starting point column and a reduction ratio\n",
    "    for k in range (pvtr,n): #for the entire row, starting right under the pivot\n",
    "        mat[tgr][k]=mat[tgr][k]-mat[pvtr][k]*ratio # reduces one row with a certain ratio\n",
    "        #print k # debug"
   ]
  },
  {
   "cell_type": "markdown",
   "metadata": {},
   "source": [
    "Question 4 : Plot the growth factor against the matrix size, in logathmic scale, where the matrices are generated as in (a). The samples of matrices should be large enough to be a good representative of random matrices with n ranging between 10 and 1000. In patricular for each n, one should experiment on a generous number of matrices. From the experimental plot, estimate the power alpha in the assument dependence g ~ cn^alpha where g is the growth factor, n is the matrix size and c is a constant. Compare this with the worst case scenario g ~ 2^n."
   ]
  },
  {
   "cell_type": "code",
   "execution_count": 7,
   "metadata": {
    "collapsed": true
   },
   "outputs": [],
   "source": [
    "def growth(mat, upp, n):\n",
    "    #given two matrices calculates the growth factor\n",
    "    maxu=maxabs(upp,n)\n",
    "    maxm=maxabs(mat,n)\n",
    "    gr=maxu/maxm\n",
    "    return gr"
   ]
  },
  {
   "cell_type": "code",
   "execution_count": 8,
   "metadata": {
    "collapsed": true
   },
   "outputs": [],
   "source": [
    "def maxabs(mat, n):\n",
    "    #finds the maximum of the absolute values of the entries in a given matrix\n",
    "    m=0 #initializing\n",
    "    for i in range (n):\n",
    "        for j in range (n): #double for loop to span matrix\n",
    "            if abs(mat[i][j])>m:\n",
    "                m=abs(mat[i][j]) #replace if bigger\n",
    "    return m"
   ]
  },
  {
   "cell_type": "code",
   "execution_count": 9,
   "metadata": {
    "collapsed": false
   },
   "outputs": [],
   "source": [
    "def compute (nlist, unif):\n",
    "    #generates matrices with uniformly distributed entries, performes gaussian elimination and returns growth factors\n",
    "    growthlist=[]\n",
    "    for n in nlist:\n",
    "        grft=findavgf(n,unif)\n",
    "        growthlist.append(grft)\n",
    "    return growthlist"
   ]
  },
  {
   "cell_type": "code",
   "execution_count": 10,
   "metadata": {
    "collapsed": false
   },
   "outputs": [],
   "source": [
    "def findavgf(n, unif):\n",
    "    #computes average growth factors for 10 matrices of given size then returns average\n",
    "    sum=0\n",
    "    it=25\n",
    "    for i in range (it):#print \"finding grft\" #debug\n",
    "        sum=+findgrowthfactor(unif, n)\n",
    "    av=sum/it\n",
    "    return av"
   ]
  },
  {
   "cell_type": "code",
   "execution_count": 11,
   "metadata": {
    "collapsed": true
   },
   "outputs": [],
   "source": [
    "def findgrowthfactor (unif, n):\n",
    "    # generates matrices with either uniformly or normally distributed entries\n",
    "    # then performs gaussian eliination then computes growth factor (average over 10 trials)\n",
    "    if unif:\n",
    "        matrix=generateunif(n)\n",
    "    else:\n",
    "        matrix=generatenorm(n)\n",
    "    #matrix=generate(unif, n)\n",
    "    upper=[row[:]for row in matrix] #makes a copy of the original matrix\n",
    "    upper=gaussian(upper,n) # performs gaussian elimination#prf(matrix,n) #debug#prf(upper,n) #debug\n",
    "    grft=growth(matrix,upper,n)#print \"in findgrowthfactor\"#print grft #debug\n",
    "    return grft"
   ]
  },
  {
   "cell_type": "code",
   "execution_count": 12,
   "metadata": {
    "collapsed": false
   },
   "outputs": [],
   "source": [
    "def prf2D(mat, n): #debug function\n",
    "# print function for nxn matrix\n",
    "    for i in range (n):\n",
    "        for j in range (n):\n",
    "            print mat[i][j]"
   ]
  },
  {
   "cell_type": "code",
   "execution_count": 13,
   "metadata": {
    "collapsed": true
   },
   "outputs": [],
   "source": [
    "def prf1D(mat, n): #debug function\n",
    "    #print function for 1D array length n\n",
    "    for i in range(n):\n",
    "        print mat[i]"
   ]
  },
  {
   "cell_type": "code",
   "execution_count": 14,
   "metadata": {
    "collapsed": false
   },
   "outputs": [],
   "source": [
    "nlist = [10, 100, 200, 500, 700, 900]\n",
    "unif=True\n",
    "\n",
    "#fig = plt.figure(figsize=(10,10))\n",
    "#ax1 = fig.add_subplot(211)\n",
    "\n",
    "#ax1.plot(nlist,np.log(compute(nlist, unif)),label='growth factor') # everything is done in the compute function\n",
    "\n",
    "#ax1.set_title('matrix size vs growth factor - uniform')\n",
    "#ax1.xaxis.set_label_coords(.5,.06)\n",
    "#ax1.set_xlabel('matrix size')\n",
    "#ax1.set_ylabel('growth factor')\n",
    "#ax1.legend(loc=\"upper center\")\n",
    "#plt.show()"
   ]
  },
  {
   "cell_type": "markdown",
   "metadata": {},
   "source": [
    "From the experimental plot, we can see that the growth factor function can be approximated by g=cn^a and that here a~1/2, which is a lot less than the worst case scenario value of g~2^n"
   ]
  },
  {
   "cell_type": "markdown",
   "metadata": {},
   "source": [
    "Question 5 : Now we study the probability distribution of the growth factor for a fixed n. Fix n and generate an abondant number of random matrices as in (1) to measure their growth factors. Then by subdividing the value space of the growth factor into small subintervals of equal length and by counting the number of matrices with growth factor lying in each of those subintervals, produce and approximation of the probabilty density function of the growth factor (the usual histogram technique). Plot it against the growth factor value, with the vertical axis in logarithmic scale. Make a conjecture on how the probability density decays as the growth factor becomes large. Note that the number of matrices and the length of the subintervals should  be so that most of the subintervals individually contain a large number of matrices and that there are enough subintervals to gove a meaningfull approximation of the probability density function. Repeat the experiment for several values of n, say n=20, n=40, n=80."
   ]
  },
  {
   "cell_type": "code",
   "execution_count": 15,
   "metadata": {
    "collapsed": true
   },
   "outputs": [],
   "source": [
    "def compute2 (n, unif, subint):\n",
    "    #given a matrix size, generates 100 matrices, calculates their growth factors \n",
    "    #and gives back their density ditribution\n",
    "    gflist=[] #initializing\n",
    "    proba=[0 for x in range(subint)] #initializing\n",
    "    for i in range (100): #calcutates growth factors for 100 nxn matrices\n",
    "        gf=findgrowthfactor(unif, n)\n",
    "        gflist.append(gf) #print gf #debug\n",
    "    proba=density(proba, gflist, subint, n) # calculates density\n",
    "    return proba"
   ]
  },
  {
   "cell_type": "code",
   "execution_count": 16,
   "metadata": {
    "collapsed": false
   },
   "outputs": [],
   "source": [
    "def density (proba, gflist, subint,n):\n",
    "    # takes in a list of values gives back their density of distribution \n",
    "    proba=count(proba, gflist, subint,n)       #print \"subint is = \"#print subint #debug\n",
    "    for i in range (subint):      #print \"original value =\"#print proba[i] #debug\n",
    "        proba[i]=float(proba[i])/float(subint)*100     #print \"Im in there\"#print proba[i] #debug#prf1D(proba, subint)#n=0#print \"all the probabilities are : \" # debug#for i in range(subint):#print proba [i] #debug\n",
    "    return proba"
   ]
  },
  {
   "cell_type": "code",
   "execution_count": 17,
   "metadata": {
    "collapsed": true
   },
   "outputs": [],
   "source": [
    "def count (proba, gflist, subint,n):\n",
    "    # given a list of values and a number a intervals, counts how many alues are in each intervals\n",
    "    for i in gflist: # for each matrix\n",
    "        interval=0# initializing         #print \"Im there\"#print \"gflist number =\"#print i #debug\n",
    "        for k in range (subint-1): # for every subinterval\n",
    "            if i>k*(pow(2,n)/subint): # if the growthfactor is not in the kth interval     #print \"yes\" #debug\n",
    "                interval=interval+1 # check if it is in the next one     #print interval #debug\n",
    "            else : #if it is in this interval\n",
    "                break  #then we dont need to check for the others\n",
    "        proba[interval]= proba[interval]+1 #increment number of gf in this subint     #print subint#print 'proba is'#print proba[subint] # debug\n",
    "    return proba"
   ]
  },
  {
   "cell_type": "code",
   "execution_count": 18,
   "metadata": {
    "collapsed": false
   },
   "outputs": [],
   "source": [
    "n = 10 \n",
    "unif= True\n",
    "subint=100 #choosing how many subintervals I want/need\n",
    "valuelist=[x for x in range(subint)]\n",
    "#subint = int(pow(2,n)/n)+1        #print \"subint is\"#print subint #debug\n",
    "#so here I wanted to have everything expressed according to the matrix size so my program would work for any n\n",
    "#this way I could just change the n value and have it give back the density\n",
    "#but I couldn't find an expression that made sense ie that gave me subintervals small enough to be meaningful\n",
    "#and big enough so that not too many were empty\n",
    "\n",
    "fig = plt.figure(figsize=(10,10))\n",
    "ax1 = fig.add_subplot(211)\n",
    "\n",
    "ax1.hist(compute2(n, unif, subint),valuelist,label='density') #so this doesn't work as I'd like it to, Im probablity using it the wrong way\n",
    "\n",
    "ax1.set_title('growth factor vs distribution')\n",
    "ax1.xaxis.set_label_coords(.5,.06)\n",
    "ax1.set_xlabel('growth factor (log)')\n",
    "ax1.set_ylabel('probability in %')\n",
    "ax1.legend(loc=\"upper center\")\n",
    "plt.show()"
   ]
  },
  {
   "cell_type": "markdown",
   "metadata": {},
   "source": [
    "As the growth factor becomes larger, the density seems to decrease a lot. My histograms don't seem to be accurate but from printing out the 'proba' list and looking at the percentage of growth factor present in each subintervals, I observed that almost everytime, there are 505 to 70% of them present in the first 3 intervals (for n=10). For bigger matrices, most growth factors are in the first 10 subintervals.\n",
    "Thus, very large growth factor are less likely to occur that smaller ones, but as the matrix size gets larger, the avergae growth factor value will increase."
   ]
  },
  {
   "cell_type": "markdown",
   "metadata": {},
   "source": [
    "Question 6 : Repeat the preceding 2 items for matrices whose entries are ranbom numbers with a normal distribution. Prick the parameters (mu and sigma) at your convenience."
   ]
  },
  {
   "cell_type": "code",
   "execution_count": 19,
   "metadata": {
    "collapsed": false
   },
   "outputs": [
    {
     "name": "stdout",
     "output_type": "stream",
     "text": [
      "hi\n"
     ]
    },
    {
     "data": {
      "image/png": "[encoded data removed]",
      "text/plain": [
       "<matplotlib.figure.Figure at 0x117ac8110>"
      ]
     },
     "metadata": {},
     "output_type": "display_data"
    }
   ],
   "source": [
    "nlist = [10, 100, 200, 500, 700, 900]\n",
    "unif=False\n",
    "\n",
    "fig = plt.figure(figsize=(10,10))\n",
    "ax1 = fig.add_subplot(211)\n",
    "\n",
    "print \"hi\"#debug\n",
    "ax1.plot(nlist,np.log(compute(nlist, unif)),label='growth factor') # everything is done in the compute function\n",
    "\n",
    "ax1.set_title('matrix size vs growth factor - normal')\n",
    "ax1.xaxis.set_label_coords(.5,.06)\n",
    "ax1.set_xlabel('matrix size')\n",
    "ax1.set_ylabel('growth factor')\n",
    "ax1.legend(loc=\"upper center\")\n",
    "plt.show()"
   ]
  },
  {
   "cell_type": "markdown",
   "metadata": {},
   "source": [
    "From the experimental plot, we can see that just as with the uniform distribution, the growth factor function can be approximated by g=cn^a and that here a~1/2. However, the constant c would differ."
   ]
  },
  {
   "cell_type": "code",
   "execution_count": 20,
   "metadata": {
    "collapsed": false
   },
   "outputs": [
    {
     "data": {
      "image/png": "[encoded data removed]",
      "text/plain": [
       "<matplotlib.figure.Figure at 0x1119e0b10>"
      ]
     },
     "metadata": {},
     "output_type": "display_data"
    }
   ],
   "source": [
    "n = 10 \n",
    "unif= False\n",
    "subint=100 #choosing how many subintervals I want/need\n",
    "valuelist=[x for x in range(subint)]\n",
    "\n",
    "fig = plt.figure(figsize=(10,10))\n",
    "ax1 = fig.add_subplot(211)\n",
    "\n",
    "ax1.hist(compute2(n, unif, subint),valuelist,label='density') #eveything is done in the compute2 function for clarity\n",
    "\n",
    "ax1.set_title('growth factor vs distribution')\n",
    "ax1.xaxis.set_label_coords(.5,.06)\n",
    "ax1.set_xlabel('growth factor (log)')\n",
    "ax1.set_ylabel('probability in %')\n",
    "ax1.legend(loc=\"upper center\")\n",
    "plt.show()"
   ]
  },
  {
   "cell_type": "markdown",
   "metadata": {},
   "source": [
    "We obeserve more of less the same behavior as with unifrmoly distributed matrix entries. However, this may be because of the error in my histogram code."
   ]
  }
 ],
 "metadata": {
  "kernelspec": {
   "display_name": "Python 2",
   "language": "python",
   "name": "python2"
  },
  "language_info": {
   "codemirror_mode": {
    "name": "ipython",
    "version": 2
   },
   "file_extension": ".py",
   "mimetype": "text/x-python",
   "name": "python",
   "nbconvert_exporter": "python",
   "pygments_lexer": "ipython2",
   "version": "2.7.13"
  }
 },
 "nbformat": 4,
 "nbformat_minor": 2
}
