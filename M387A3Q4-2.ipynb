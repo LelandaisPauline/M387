{
 "cells": [
  {
   "cell_type": "code",
   "execution_count": 1,
   "metadata": {
    "collapsed": true
   },
   "outputs": [],
   "source": [
    "import numpy as np\n",
    "import matplotlib.pyplot as plt\n",
    "import random as rn\n",
    "import math as math\n",
    "from scipy.misc import comb"
   ]
  },
  {
   "cell_type": "markdown",
   "metadata": {},
   "source": [
    "Question 4 : Design and implement a quadrature rule for the integrals needed to compute the Lebesgue constant for Legendre truncation. Plotting the graph of ||Sn|| against n, experimentally determine the constant C in the assumed dependence ||Sn||=Csqrt(n)."
   ]
  },
  {
   "cell_type": "code",
   "execution_count": 2,
   "metadata": {
    "collapsed": false
   },
   "outputs": [],
   "source": [
    "def Legendre (x, k):\n",
    "    #computes value of Legendre polynomial of degree k at point x #print x#debug#print k#debug\n",
    "    if (k==0): #Po = 0 #print 'k is 0' #debug\n",
    "        P=1.\n",
    "    if(k==1): #P1=x #print 'k is 1' #debug\n",
    "        P=x\n",
    "    else:\n",
    "        a=1. #initializing\n",
    "        b=x\n",
    "        for i in range (1,k) : #the recursive formula #print 'going in ; i='#print i#print 'a= ; b='#print a#print b #debug\n",
    "            num=(2*i+1)*x*b - i*a\n",
    "            den=i+1 #print 'num= ; den= '#print num#print den\n",
    "            P=num/den #P=((2*i+1)*x*b-(i)*a)/(i+1) #Pi+1 = (2(i+1) * xP;i(x) - iP;i-1(x)) / i+1 #debug\n",
    "            a=b\n",
    "            b=P#print P #debug\n",
    "    return P"
   ]
  },
  {
   "cell_type": "code",
   "execution_count": 3,
   "metadata": {
    "collapsed": true
   },
   "outputs": [],
   "source": [
    "def abssum(x, n) :\n",
    "    #intermediate step : compute |sum(a;k*P;k(x))| for k from 0 to n at a given point x\n",
    "    somme=0.0 #initializing\n",
    "    for k in range (n+1): #for k from 0 to n\n",
    "        a=k+.5 #computes a;k\n",
    "        P=Legendre(x,k) #computes P;k(x)\n",
    "        somme = somme +a*P\n",
    "    S=abs(somme) #takes absolute value of the sum\n",
    "    return S"
   ]
  },
  {
   "cell_type": "code",
   "execution_count": 4,
   "metadata": {
    "collapsed": true
   },
   "outputs": [],
   "source": [
    "def quadrature(n):\n",
    "    #computes Simpson's approx. of ||S||=integral(abs sum(a;k*P;k(x))) for x between -1 and 1 for a given degree n\n",
    "    S=1/3.*(abssum(-1.0,n)+4*abssum(0.0,n)+abssum(1.0,n))#print n #printing exact values to compute C#print S \n",
    "    return S"
   ]
  },
  {
   "cell_type": "code",
   "execution_count": 5,
   "metadata": {
    "collapsed": false
   },
   "outputs": [
    {
     "data": {
      "image/png": "[encoded data removed]",
      "text/plain": [
       "<matplotlib.figure.Figure at 0x10b43fd50>"
      ]
     },
     "metadata": {},
     "output_type": "display_data"
    }
   ],
   "source": [
    "fig = plt.figure(figsize=(10,10)) #graph setup\n",
    "ax1 = fig.add_subplot(211)\n",
    "\n",
    "nn=57 # maximum degree\n",
    "nlist = [x for x in range (nn)] #initializing\n",
    "Slist = [0 for x in range (nn)]#for i in range (nn):#Legendre(-1.0, i) #debug\n",
    "\n",
    "for i in range (nn):#computing ||Sn|| for each n\n",
    "    Slist[i]=quadrature(i)\n",
    "ax1.plot(nlist,Slist,label='Lebesgue constant for Legendre truncation')\n",
    "\n",
    "plt.legend()                                                             #more graph setup - no math relevance\n",
    "ax1.set_title(r'Lagrange Interpolation with equally spaced nodes')\n",
    "ax1.xaxis.set_label_coords(.5,.06)\n",
    "ax1.set_xlabel('x')\n",
    "ax1.set_ylabel('y')\n",
    "ax1.legend(loc=\"lower center\")\n",
    "plt.show()"
   ]
  },
  {
   "cell_type": "markdown",
   "metadata": {},
   "source": [
    " We can now solve for C ~ "
   ]
  }
 ],
 "metadata": {
  "kernelspec": {
   "display_name": "Python 2",
   "language": "python",
   "name": "python2"
  },
  "language_info": {
   "codemirror_mode": {
    "name": "ipython",
    "version": 2
   },
   "file_extension": ".py",
   "mimetype": "text/x-python",
   "name": "python",
   "nbconvert_exporter": "python",
   "pygments_lexer": "ipython2",
   "version": "2.7.13"
  }
 },
 "nbformat": 4,
 "nbformat_minor": 2
}
