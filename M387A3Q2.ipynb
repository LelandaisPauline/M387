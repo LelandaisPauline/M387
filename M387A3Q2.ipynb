{
 "cells": [
  {
   "cell_type": "code",
   "execution_count": 50,
   "metadata": {
    "collapsed": true
   },
   "outputs": [],
   "source": [
    "import numpy as np\n",
    "import matplotlib.pyplot as plt\n",
    "import random as rn\n",
    "import math as math\n",
    "import scipy as scipy\n",
    "from scipy.misc import comb\n",
    "from scipy import optimize"
   ]
  },
  {
   "cell_type": "markdown",
   "metadata": {},
   "source": [
    "Question 2 : For interpolation with equidistant nodes, the function as above achives its maximum in the outermost intervals, that is, in the intervals (x;0 x;1) and (x;n-1,x;n). So in order to compute the Lebesgue constant Ln, we need to locate one of the global maximums. Implemet the Newton Raphson or another rootfinding method and apply it to the derivative of the function to complete this task. One possible intial guess is to starat with the midpoint of (x;0, x;1). Make sure that the method nonveres to the desired zero of d/dx * . Plot the graph of ||Ln|| against n and experimentally confirm the law ||Ln||~ 2^n."
   ]
  },
  {
   "cell_type": "code",
   "execution_count": 51,
   "metadata": {
    "collapsed": true
   },
   "outputs": [],
   "source": [
    "def Lagrange(x, nn, nodelist):\n",
    "    #computes Lagrange coefficient at a point k and for nn nodes\n",
    "    somme=0 #initializing\n",
    "    for i in range(nn): \n",
    "        prod=1 #initializing\n",
    "        for j in range (nn): #compute Lagrange interpolation\n",
    "            if j!=i :\n",
    "                prod=prod*(x-nodelist[j])/(nodelist[i]-nodelist[j])\n",
    "            else :\n",
    "                prod=prod*1\n",
    "        somme=somme+abs(prod)\n",
    "    y=somme #assign f(x) to y\n",
    "    return y"
   ]
  },
  {
   "cell_type": "code",
   "execution_count": 52,
   "metadata": {
    "collapsed": true
   },
   "outputs": [],
   "source": [
    "def Lagrangeprime (x,nn,nodelist):\n",
    "    #computes derivative of Lagrange polynomial at point x for nn nodes\n",
    "    somme=0 #initializing\n",
    "    for k in range(nn):\n",
    "        sm=0 #initializing\n",
    "        for i in range(nn):\n",
    "            prod=1 #initializing\n",
    "            if (i!=k):\n",
    "                factor=1/(nodelist[k]-nodelist[i])\n",
    "                for j in range(nn):\n",
    "                    if (j!=i):\n",
    "                        if(j!=k):\n",
    "                            prod = prod*((x-nodelist[j])/(nodelist[k]-nodelist[j]))\n",
    "                sm=sm+prod*(factor)\n",
    "    somme=somme+abs(sm)\n",
    "    y=somme\n",
    "    return somme           "
   ]
  },
  {
   "cell_type": "code",
   "execution_count": 53,
   "metadata": {
    "collapsed": false
   },
   "outputs": [],
   "source": [
    "def root(nn, nodelist, a,b) :\n",
    "    #finds root for Lagrange prime in interval a,b\n",
    "    midpoint=(a+b)/2\n",
    "    r = scipy.optimize.newton(Lagrangeprime, midpoint,args=(nn, nodelist), maxiter=150) #using scipy library\n",
    "    return r"
   ]
  },
  {
   "cell_type": "code",
   "execution_count": 54,
   "metadata": {
    "collapsed": false
   },
   "outputs": [
    {
     "data": {
      "image/png": "[encoded data removed]",
      "text/plain": [
       "<matplotlib.figure.Figure at 0x10d8bf150>"
      ]
     },
     "metadata": {},
     "output_type": "display_data"
    }
   ],
   "source": [
    "fig = plt.figure(figsize=(10,10)) #graph setup\n",
    "ax1 = fig.add_subplot(211)\n",
    "\n",
    "nn=15 # maximal number of nodes\n",
    "nlist = [i for i in range (nn)]\n",
    "Llist= [0 for k in range (nn)]\n",
    "\n",
    "for i in range (nn):\n",
    "    if i>2 : #if [xo;x1] different from [xn-1,xn]#print i #debug\n",
    "        #print i\n",
    "        nodelist = np.linspace(-1,1,i) #get the nodes x coordinates#print nodelist\n",
    "        rmin= root(i, nodelist, nodelist[0], nodelist[1]) #finds root of derivative in [x;0,x;1]\n",
    "        rmax= root(i, nodelist, nodelist[i-2], nodelist[i-1]) #finds root of derivative in [x;n,x;n+1]\n",
    "        Llist[i]=max(Lagrange(rmin,i, nodelist), Lagrange(rmax, i, nodelist))# computes value at root of derivative\n",
    "        #hence computes local maximum at both outermost intervals and keep the maximum value.\n",
    "        #print Llist[i] #printing out exact value to compute C\n",
    "        \n",
    "ax1.plot(nlist,Llist,label='Lebesgue constant with equidistant nodes')\n",
    "\n",
    "plt.legend()                                                             #more graph setup - no math relevance\n",
    "ax1.set_title(r'Lagrange Interpolation with equally spaced nodes')\n",
    "ax1.xaxis.set_label_coords(.5,.06)\n",
    "ax1.set_xlabel('x')\n",
    "ax1.set_ylabel('y')\n",
    "ax1.legend(loc=\"lower center\")\n",
    "plt.show()"
   ]
  },
  {
   "cell_type": "markdown",
   "metadata": {
    "collapsed": true
   },
   "source": [
    "As it turns out, with n bigger than 15 we run into convergence problems, were the root of the derivative doesnt converge after 150 iterations. Therefore I can only guess the Lebesgue constant does explode for n large hence ||Ln||~2^n."
   ]
  },
  {
   "cell_type": "code",
   "execution_count": null,
   "metadata": {
    "collapsed": true
   },
   "outputs": [],
   "source": []
  }
 ],
 "metadata": {
  "kernelspec": {
   "display_name": "Python 2",
   "language": "python",
   "name": "python2"
  },
  "language_info": {
   "codemirror_mode": {
    "name": "ipython",
    "version": 2
   },
   "file_extension": ".py",
   "mimetype": "text/x-python",
   "name": "python",
   "nbconvert_exporter": "python",
   "pygments_lexer": "ipython2",
   "version": "2.7.13"
  }
 },
 "nbformat": 4,
 "nbformat_minor": 2
}
